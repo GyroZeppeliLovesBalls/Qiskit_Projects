{
 "cells": [
  {
   "cell_type": "code",
   "execution_count": 2,
   "id": "b2caec9f",
   "metadata": {},
   "outputs": [],
   "source": [
    "from qiskit import QuantumRegister, ClassicalRegister, QuantumCircuit\n",
    "from numpy import pi\n",
    "# Importing Qiskit and required tools"
   ]
  },
  {
   "cell_type": "code",
   "execution_count": 3,
   "id": "cc579bab",
   "metadata": {},
   "outputs": [],
   "source": [
    "from qiskit.providers.aer import AerSimulator\n",
    "sim = AerSimulator()\n",
    "# make new simulator object"
   ]
  },
  {
   "cell_type": "code",
   "execution_count": 4,
   "id": "b83ff6c9",
   "metadata": {},
   "outputs": [
    {
     "data": {
      "text/html": [
       "<pre style=\"word-wrap: normal;white-space: pre;background: #fff0;line-height: 1.1;font-family: &quot;Courier New&quot;,Courier,monospace\">     \n",
       "q_0: \n",
       "     \n",
       "q_1: \n",
       "     \n",
       "q_2: \n",
       "     \n",
       "q_3: \n",
       "     \n",
       "q_4: \n",
       "     \n",
       "  c: \n",
       "     </pre>"
      ],
      "text/plain": [
       "     \n",
       "q_0: \n",
       "     \n",
       "q_1: \n",
       "     \n",
       "q_2: \n",
       "     \n",
       "q_3: \n",
       "     \n",
       "q_4: \n",
       "     \n",
       "  c: \n",
       "     "
      ]
     },
     "execution_count": 4,
     "metadata": {},
     "output_type": "execute_result"
    }
   ],
   "source": [
    "qreg_q = QuantumRegister(5, 'q')\n",
    "creg_c = ClassicalRegister(1, 'c')\n",
    "qc = QuantumCircuit(qreg_q, creg_c)\n",
    "qc.draw()\n",
    "# Returns a drawing of the circuit"
   ]
  },
  {
   "cell_type": "code",
   "execution_count": 5,
   "id": "d71ef3df",
   "metadata": {},
   "outputs": [],
   "source": [
    "# First; The And Gate\n",
    "# The AND gate is simple and straightforward\n",
    "# The Toffoli Double-Gated X (CCX) can act as an AND gate if applied on an OFF qubit\n",
    "# The OFF qubit can be turned ON if and only if both of the controlling qubits are ON"
   ]
  },
  {
   "cell_type": "code",
   "execution_count": 6,
   "id": "f699bc9d",
   "metadata": {},
   "outputs": [
    {
     "data": {
      "text/html": [
       "<pre style=\"word-wrap: normal;white-space: pre;background: #fff0;line-height: 1.1;font-family: &quot;Courier New&quot;,Courier,monospace\">             \n",
       "q_0: ──■─────\n",
       "       │     \n",
       "q_1: ──■─────\n",
       "     ┌─┴─┐┌─┐\n",
       "q_2: ┤ X ├┤M├\n",
       "     └───┘└╥┘\n",
       "q_3: ──────╫─\n",
       "           ║ \n",
       "q_4: ──────╫─\n",
       "           ║ \n",
       "  c: ══════╩═\n",
       "             </pre>"
      ],
      "text/plain": [
       "             \n",
       "q_0: ──■─────\n",
       "       │     \n",
       "q_1: ──■─────\n",
       "     ┌─┴─┐┌─┐\n",
       "q_2: ┤ X ├┤M├\n",
       "     └───┘└╥┘\n",
       "q_3: ──────╫─\n",
       "           ║ \n",
       "q_4: ──────╫─\n",
       "           ║ \n",
       "  c: ══════╩═\n",
       "             "
      ]
     },
     "execution_count": 6,
     "metadata": {},
     "output_type": "execute_result"
    }
   ],
   "source": [
    "qc.ccx(qreg_q[0], qreg_q[1], qreg_q[2])\n",
    "qc.measure(qreg_q[2], creg_c[0])\n",
    "qc.draw()"
   ]
  },
  {
   "cell_type": "code",
   "execution_count": null,
   "id": "39df0d02",
   "metadata": {},
   "outputs": [],
   "source": []
  }
 ],
 "metadata": {
  "kernelspec": {
   "display_name": "Python 3 (ipykernel)",
   "language": "python",
   "name": "python3"
  },
  "language_info": {
   "codemirror_mode": {
    "name": "ipython",
    "version": 3
   },
   "file_extension": ".py",
   "mimetype": "text/x-python",
   "name": "python",
   "nbconvert_exporter": "python",
   "pygments_lexer": "ipython3",
   "version": "3.9.13"
  }
 },
 "nbformat": 4,
 "nbformat_minor": 5
}
