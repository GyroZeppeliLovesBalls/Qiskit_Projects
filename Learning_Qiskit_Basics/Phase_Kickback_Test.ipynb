{
 "cells": [
  {
   "cell_type": "code",
   "execution_count": 5,
   "id": "a4c6ea13-ca4c-473d-8b32-f2dce1877a65",
   "metadata": {},
   "outputs": [
    {
     "name": "stderr",
     "output_type": "stream",
     "text": [
      "ibmqfactory.load_account:WARNING:2022-10-31 13:38:28,213: Credentials are already in use. The existing account in the session will be replaced.\n"
     ]
    }
   ],
   "source": [
    "import numpy as np\n",
    "\n",
    "# Importing standard Qiskit libraries\n",
    "from qiskit import QuantumRegister, ClassicalRegister, QuantumCircuit, transpile, Aer, IBMQ\n",
    "from qiskit.providers.aer import QasmSimulator\n",
    "from qiskit.quantum_info import Statevector\n",
    "from qiskit.tools.jupyter import *\n",
    "from qiskit.visualization import *\n",
    "from ibm_quantum_widgets import *\n",
    "\n",
    "from numpy import pi\n",
    "\n",
    "# Loading your IBM Quantum account(s)\n",
    "provider = IBMQ.load_account()"
   ]
  },
  {
   "cell_type": "code",
   "execution_count": 2,
   "id": "51ff71ec-a178-437b-8741-ca60d6e66eb1",
   "metadata": {},
   "outputs": [
    {
     "data": {
      "text/plain": [
       "<qiskit.circuit.instructionset.InstructionSet at 0x7f3c2051fd90>"
      ]
     },
     "execution_count": 2,
     "metadata": {},
     "output_type": "execute_result"
    }
   ],
   "source": [
    "qreg_q = QuantumRegister(2, 'q')\n",
    "creg_c = ClassicalRegister(2, 'c')\n",
    "circuit = QuantumCircuit(qreg_q, creg_c)\n",
    "\n",
    "circuit.h(qreg_q[0])\n",
    "circuit.h(qreg_q[1])\n",
    "circuit.z(qreg_q[0])\n",
    "circuit.cx(qreg_q[0], qreg_q[1])\n",
    "# @columns [1,1,2,3]"
   ]
  },
  {
   "cell_type": "code",
   "execution_count": 3,
   "id": "138e635f-1bf8-4c84-a023-a600633a02aa",
   "metadata": {},
   "outputs": [
    {
     "data": {
      "image/png": "[encoded data removed]",
      "text/plain": [
       "<Figure size 267.052x204.68 with 1 Axes>"
      ]
     },
     "execution_count": 3,
     "metadata": {},
     "output_type": "execute_result"
    }
   ],
   "source": [
    "circuit.draw()"
   ]
  },
  {
   "cell_type": "code",
   "execution_count": 4,
   "id": "50c55063-657b-473a-b40e-83bc8e9b05e0",
   "metadata": {},
   "outputs": [
    {
     "data": {
      "text/plain": [
       "'Statevector([ 0.5+0.j, -0.5+0.j,  0.5+0.j, -0.5+0.j],\\n            dims=(2, 2))'"
      ]
     },
     "execution_count": 4,
     "metadata": {},
     "output_type": "execute_result"
    }
   ],
   "source": [
    "ket = Statevector(circuit)\n",
    "ket.draw()"
   ]
  },
  {
   "cell_type": "code",
   "execution_count": null,
   "id": "4553c472-0fc0-460a-b601-db1141b2f1f5",
   "metadata": {},
   "outputs": [],
   "source": []
  }
 ],
 "metadata": {
  "kernelspec": {
   "display_name": "Python 3 (ipykernel)",
   "language": "python",
   "name": "python3"
  },
  "language_info": {
   "codemirror_mode": {
    "name": "ipython",
    "version": 3
   },
   "file_extension": ".py",
   "mimetype": "text/x-python",
   "name": "python",
   "nbconvert_exporter": "python",
   "pygments_lexer": "ipython3",
   "version": "3.8.13"
  },
  "widgets": {
   "application/vnd.jupyter.widget-state+json": {
    "state": {
     "004424f698234de3bd8df6f837502622": {
      "model_module": "@jupyter-widgets/controls",
      "model_module_version": "1.5.0",
      "model_name": "DescriptionStyleModel",
      "state": {
       "description_width": ""
      }
     },
     "23fcda5c23bb45dcbd2753e7cfa953bb": {
      "model_module": "@jupyter-widgets/controls",
      "model_module_version": "1.5.0",
      "model_name": "ButtonStyleModel",
      "state": {}
     },
     "38a2e830796f412dbc8067abae885c90": {
      "model_module": "@jupyter-widgets/controls",
      "model_module_version": "1.5.0",
      "model_name": "DescriptionStyleModel",
      "state": {
       "description_width": ""
      }
     },
     "3cfd7b789c0d45b1a39b0e32243e93a3": {
      "model_module": "@jupyter-widgets/controls",
      "model_module_version": "1.5.0",
      "model_name": "HTMLModel",
      "state": {
       "layout": "IPY_MODEL_90b38c90350e44b5a36abb65f0a1a725",
       "style": "IPY_MODEL_ecd93c14c88a40afbe26bb6bbc0678e5",
       "value": "<h5>Status</h5>"
      }
     },
     "4a6bee4ab6344b64ae1ab8c0732b80f7": {
      "model_module": "@jupyter-widgets/base",
      "model_module_version": "1.2.0",
      "model_name": "LayoutModel",
      "state": {
       "width": "145px"
      }
     },
     "4f0be4bf3d8847c491b279ab45610c37": {
      "model_module": "@jupyter-widgets/controls",
      "model_module_version": "1.5.0",
      "model_name": "DescriptionStyleModel",
      "state": {
       "description_width": ""
      }
     },
     "4f0f8036ed1e4644b9f2dfee48343a27": {
      "model_module": "@jupyter-widgets/controls",
      "model_module_version": "1.5.0",
      "model_name": "HTMLModel",
      "state": {
       "layout": "IPY_MODEL_809803a2301349a4b4edf64614a602a4",
       "style": "IPY_MODEL_6522b868920c4fdd958b18ee86f3dd04",
       "value": "<h5>Job ID</h5>"
      }
     },
     "6522b868920c4fdd958b18ee86f3dd04": {
      "model_module": "@jupyter-widgets/controls",
      "model_module_version": "1.5.0",
      "model_name": "DescriptionStyleModel",
      "state": {
       "description_width": ""
      }
     },
     "7e7cb7838cfc4a9b8c4707131259954b": {
      "model_module": "@jupyter-widgets/base",
      "model_module_version": "1.2.0",
      "model_name": "LayoutModel",
      "state": {
       "margin": "0px 0px 0px 37px",
       "width": "600px"
      }
     },
     "80574dc6a14e4dccb03cfb77ca2e0a62": {
      "model_module": "@jupyter-widgets/base",
      "model_module_version": "1.2.0",
      "model_name": "LayoutModel",
      "state": {}
     },
     "809803a2301349a4b4edf64614a602a4": {
      "model_module": "@jupyter-widgets/base",
      "model_module_version": "1.2.0",
      "model_name": "LayoutModel",
      "state": {
       "width": "190px"
      }
     },
     "8cb225326ea843f0b4b78e5ec2104b36": {
      "model_module": "@jupyter-widgets/base",
      "model_module_version": "1.2.0",
      "model_name": "LayoutModel",
      "state": {
       "grid_template_areas": "\n                                       \". . . . right \"\n                                        ",
       "grid_template_columns": "20% 20% 20% 20% 20%",
       "width": "100%"
      }
     },
     "90b38c90350e44b5a36abb65f0a1a725": {
      "model_module": "@jupyter-widgets/base",
      "model_module_version": "1.2.0",
      "model_name": "LayoutModel",
      "state": {
       "width": "95px"
      }
     },
     "92f062ac0bca4ca9b5e234a6654bc045": {
      "model_module": "@jupyter-widgets/controls",
      "model_module_version": "1.5.0",
      "model_name": "HTMLModel",
      "state": {
       "layout": "IPY_MODEL_eeb76f01e3dd44bab22d9cf4e14951b3",
       "style": "IPY_MODEL_004424f698234de3bd8df6f837502622",
       "value": "<p style='font-family: IBM Plex Sans, Arial, Helvetica, sans-serif; font-size: 20px; font-weight: medium;'>Circuit Properties</p>"
      }
     },
     "9bdfd8df881a4cff98101093671d11c7": {
      "model_module": "@jupyter-widgets/controls",
      "model_module_version": "1.5.0",
      "model_name": "DescriptionStyleModel",
      "state": {
       "description_width": ""
      }
     },
     "a425ebe231444e99b00260fede687da7": {
      "model_module": "@jupyter-widgets/controls",
      "model_module_version": "1.5.0",
      "model_name": "HBoxModel",
      "state": {
       "children": [
        "IPY_MODEL_4f0f8036ed1e4644b9f2dfee48343a27",
        "IPY_MODEL_b55afdd9f29945ddb67c4dfeefcd705a",
        "IPY_MODEL_3cfd7b789c0d45b1a39b0e32243e93a3",
        "IPY_MODEL_bfd0499c19054ae68bd4d5501ab2db15",
        "IPY_MODEL_e994b6a99f7c40e68a7bd6c35f996c90"
       ],
       "layout": "IPY_MODEL_7e7cb7838cfc4a9b8c4707131259954b"
      }
     },
     "af1835ce56e2467dbe47f7cea307aaf4": {
      "model_module": "@jupyter-widgets/base",
      "model_module_version": "1.2.0",
      "model_name": "LayoutModel",
      "state": {
       "grid_area": "right",
       "padding": "0px 0px 0px 0px",
       "width": "70px"
      }
     },
     "b2d811dce0584c2ba59041ce1a3a1c5e": {
      "model_module": "@jupyter-widgets/controls",
      "model_module_version": "1.5.0",
      "model_name": "ButtonModel",
      "state": {
       "button_style": "primary",
       "description": "Clear",
       "layout": "IPY_MODEL_af1835ce56e2467dbe47f7cea307aaf4",
       "style": "IPY_MODEL_23fcda5c23bb45dcbd2753e7cfa953bb"
      }
     },
     "b55afdd9f29945ddb67c4dfeefcd705a": {
      "model_module": "@jupyter-widgets/controls",
      "model_module_version": "1.5.0",
      "model_name": "HTMLModel",
      "state": {
       "layout": "IPY_MODEL_4a6bee4ab6344b64ae1ab8c0732b80f7",
       "style": "IPY_MODEL_9bdfd8df881a4cff98101093671d11c7",
       "value": "<h5>Backend</h5>"
      }
     },
     "bfd0499c19054ae68bd4d5501ab2db15": {
      "model_module": "@jupyter-widgets/controls",
      "model_module_version": "1.5.0",
      "model_name": "HTMLModel",
      "state": {
       "layout": "IPY_MODEL_c55b65d95f0a48eb8dcc5f724ed7cd41",
       "style": "IPY_MODEL_38a2e830796f412dbc8067abae885c90",
       "value": "<h5>Queue</h5>"
      }
     },
     "c55b65d95f0a48eb8dcc5f724ed7cd41": {
      "model_module": "@jupyter-widgets/base",
      "model_module_version": "1.2.0",
      "model_name": "LayoutModel",
      "state": {
       "width": "70px"
      }
     },
     "e7727ed26781431783ff4e87d2f51020": {
      "model_module": "@jupyter-widgets/controls",
      "model_module_version": "1.5.0",
      "model_name": "GridBoxModel",
      "state": {
       "children": [
        "IPY_MODEL_b2d811dce0584c2ba59041ce1a3a1c5e"
       ],
       "layout": "IPY_MODEL_8cb225326ea843f0b4b78e5ec2104b36"
      }
     },
     "e994b6a99f7c40e68a7bd6c35f996c90": {
      "model_module": "@jupyter-widgets/controls",
      "model_module_version": "1.5.0",
      "model_name": "HTMLModel",
      "state": {
       "layout": "IPY_MODEL_80574dc6a14e4dccb03cfb77ca2e0a62",
       "style": "IPY_MODEL_4f0be4bf3d8847c491b279ab45610c37",
       "value": "<h5>Message</h5>"
      }
     },
     "ecd93c14c88a40afbe26bb6bbc0678e5": {
      "model_module": "@jupyter-widgets/controls",
      "model_module_version": "1.5.0",
      "model_name": "DescriptionStyleModel",
      "state": {
       "description_width": ""
      }
     },
     "eeb76f01e3dd44bab22d9cf4e14951b3": {
      "model_module": "@jupyter-widgets/base",
      "model_module_version": "1.2.0",
      "model_name": "LayoutModel",
      "state": {
       "margin": "0px 0px 10px 0px"
      }
     }
    },
    "version_major": 2,
    "version_minor": 0
   }
  }
 },
 "nbformat": 4,
 "nbformat_minor": 5
}
