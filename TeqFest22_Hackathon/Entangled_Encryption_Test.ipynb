{
 "cells": [
  {
   "cell_type": "code",
   "execution_count": 1,
   "id": "b572057f-5ff3-4fb4-ac0f-3f49b9a71956",
   "metadata": {},
   "outputs": [],
   "source": [
    "import numpy as np\n",
    "\n",
    "# Importing standard Qiskit libraries\n",
    "from qiskit import QuantumRegister, ClassicalRegister, QuantumCircuit, transpile, Aer, IBMQ\n",
    "from qiskit.providers.aer import QasmSimulator\n",
    "from qiskit import Aer\n",
    "backend = Aer.get_backend('aer_simulator')\n",
    "from qiskit.quantum_info import Statevector\n",
    "from qiskit.tools.jupyter import *\n",
    "from qiskit.visualization import *\n",
    "from ibm_quantum_widgets import *\n",
    "\n",
    "from numpy import pi"
   ]
  },
  {
   "cell_type": "code",
   "execution_count": 2,
   "id": "0482e269-1ec7-444a-9b15-8a85745cd46f",
   "metadata": {},
   "outputs": [],
   "source": [
    "# Message to be transmitted\n",
    "m = \"11\""
   ]
  },
  {
   "cell_type": "code",
   "execution_count": 3,
   "id": "fe754df1-9a99-466d-a7a2-48c2931dd8d8",
   "metadata": {},
   "outputs": [],
   "source": [
    "# Transmitter Circuit\n",
    "\n",
    "t = QuantumCircuit(2, 2)\n",
    "\n",
    "t.h(1)\n",
    "t.z(0)\n",
    "t.cx(1,0)\n",
    "\n",
    "if m[-2]=='1':\n",
    "    t.z(1)\n",
    "if m[-1]=='1':\n",
    "    t.x(1)"
   ]
  },
  {
   "cell_type": "code",
   "execution_count": 4,
   "id": "b43ad384-fe05-43a9-b146-d35f9331bd6e",
   "metadata": {},
   "outputs": [
    {
     "data": {
      "text/html": [
       "<pre style=\"word-wrap: normal;white-space: pre;background: #fff0;line-height: 1.1;font-family: &quot;Courier New&quot;,Courier,monospace\">     ┌───┐┌───┐          \n",
       "q_0: ┤ Z ├┤ X ├──────────\n",
       "     ├───┤└─┬─┘┌───┐┌───┐\n",
       "q_1: ┤ H ├──■──┤ Z ├┤ X ├\n",
       "     └───┘     └───┘└───┘\n",
       "c_0: ════════════════════\n",
       "                         \n",
       "c_1: ════════════════════\n",
       "                         </pre>"
      ],
      "text/plain": [
       "     ┌───┐┌───┐          \n",
       "q_0: ┤ Z ├┤ X ├──────────\n",
       "     ├───┤└─┬─┘┌───┐┌───┐\n",
       "q_1: ┤ H ├──■──┤ Z ├┤ X ├\n",
       "     └───┘     └───┘└───┘\n",
       "c_0: ════════════════════\n",
       "                         \n",
       "c_1: ════════════════════\n",
       "                         "
      ]
     },
     "execution_count": 4,
     "metadata": {},
     "output_type": "execute_result"
    }
   ],
   "source": [
    "t.draw()"
   ]
  },
  {
   "cell_type": "code",
   "execution_count": 5,
   "id": "e73a78b5-039a-4c23-ae5f-1bc5d076df63",
   "metadata": {},
   "outputs": [
    {
     "data": {
      "text/plain": [
       "'Statevector([ 0.        +0.j, -0.70710678+0.j,  0.70710678+0.j,\\n              0.        +0.j],\\n            dims=(2, 2))'"
      ]
     },
     "execution_count": 5,
     "metadata": {},
     "output_type": "execute_result"
    }
   ],
   "source": [
    "ket = Statevector(t)\n",
    "ket.draw()"
   ]
  },
  {
   "cell_type": "code",
   "execution_count": 6,
   "id": "b630c593-3c11-497e-82ce-f3ed94282d74",
   "metadata": {},
   "outputs": [
    {
     "data": {
      "text/plain": [
       "<qiskit.circuit.instructionset.InstructionSet at 0x1d105cd0190>"
      ]
     },
     "execution_count": 6,
     "metadata": {},
     "output_type": "execute_result"
    }
   ],
   "source": [
    "# Reciever Circuit\n",
    "\n",
    "r = QuantumCircuit(2,2)\n",
    "\n",
    "r.cx(1,0)\n",
    "r.h(1)\n",
    "r.z(0)\n",
    "\n",
    "r.measure([0,1],[0,1])"
   ]
  },
  {
   "cell_type": "code",
   "execution_count": 7,
   "id": "7210d198-5e59-41ed-8ebf-5c7345baa0fa",
   "metadata": {},
   "outputs": [
    {
     "data": {
      "text/html": [
       "<pre style=\"word-wrap: normal;white-space: pre;background: #fff0;line-height: 1.1;font-family: &quot;Courier New&quot;,Courier,monospace\">     ┌───┐┌───┐┌─┐   \n",
       "q_0: ┤ X ├┤ Z ├┤M├───\n",
       "     └─┬─┘├───┤└╥┘┌─┐\n",
       "q_1: ──■──┤ H ├─╫─┤M├\n",
       "          └───┘ ║ └╥┘\n",
       "c_0: ═══════════╩══╬═\n",
       "                   ║ \n",
       "c_1: ══════════════╩═\n",
       "                     </pre>"
      ],
      "text/plain": [
       "     ┌───┐┌───┐┌─┐   \n",
       "q_0: ┤ X ├┤ Z ├┤M├───\n",
       "     └─┬─┘├───┤└╥┘┌─┐\n",
       "q_1: ──■──┤ H ├─╫─┤M├\n",
       "          └───┘ ║ └╥┘\n",
       "c_0: ═══════════╩══╬═\n",
       "                   ║ \n",
       "c_1: ══════════════╩═\n",
       "                     "
      ]
     },
     "execution_count": 7,
     "metadata": {},
     "output_type": "execute_result"
    }
   ],
   "source": [
    "r.draw()"
   ]
  },
  {
   "cell_type": "code",
   "execution_count": 8,
   "id": "2a987dd6-51cb-4237-8f33-be0f2ee3dd72",
   "metadata": {},
   "outputs": [
    {
     "data": {
      "text/plain": [
       "{'11': 1024}"
      ]
     },
     "execution_count": 8,
     "metadata": {},
     "output_type": "execute_result"
    }
   ],
   "source": [
    "backend.run(t.compose(r)).result().get_counts()"
   ]
  },
  {
   "cell_type": "code",
   "execution_count": null,
   "id": "2c8ba807-e282-4e5f-a8d2-cba564ad352f",
   "metadata": {},
   "outputs": [],
   "source": []
  }
 ],
 "metadata": {
  "kernelspec": {
   "display_name": "Python 3 (ipykernel)",
   "language": "python",
   "name": "python3"
  },
  "language_info": {
   "codemirror_mode": {
    "name": "ipython",
    "version": 3
   },
   "file_extension": ".py",
   "mimetype": "text/x-python",
   "name": "python",
   "nbconvert_exporter": "python",
   "pygments_lexer": "ipython3",
   "version": "3.9.13"
  },
  "widgets": {
   "application/vnd.jupyter.widget-state+json": {
    "state": {
     "01bda3aae76447209fbf2d75cb579cd7": {
      "model_module": "@jupyter-widgets/base",
      "model_module_version": "1.2.0",
      "model_name": "LayoutModel",
      "state": {
       "grid_area": "right",
       "padding": "0px 0px 0px 0px",
       "width": "70px"
      }
     },
     "04e4c453642340b0b70e3a0ef63c2f4b": {
      "model_module": "@jupyter-widgets/controls",
      "model_module_version": "1.5.0",
      "model_name": "ButtonStyleModel",
      "state": {}
     },
     "09c7dd2b780a4805bc764111343707ed": {
      "model_module": "@jupyter-widgets/controls",
      "model_module_version": "1.5.0",
      "model_name": "HTMLModel",
      "state": {
       "layout": "IPY_MODEL_7eac65182d2440beb76d2115f81871d2",
       "style": "IPY_MODEL_669676d5e49c492ea513205d62091fec",
       "value": "<h5>Job ID</h5>"
      }
     },
     "145d982f51ba4653b31eaefcf2949474": {
      "model_module": "@jupyter-widgets/controls",
      "model_module_version": "1.5.0",
      "model_name": "HTMLModel",
      "state": {
       "layout": "IPY_MODEL_796dedad97444967a005f99dfa80b676",
       "style": "IPY_MODEL_a16eb41002c643f2bc24b5b651e3fa29",
       "value": "<h5>Status</h5>"
      }
     },
     "3b4687e2485e4189a75669e9c41c23e5": {
      "model_module": "@jupyter-widgets/controls",
      "model_module_version": "1.5.0",
      "model_name": "DescriptionStyleModel",
      "state": {
       "description_width": ""
      }
     },
     "4b95a5af4c8b42e98c7ee053e6d8d88d": {
      "model_module": "@jupyter-widgets/base",
      "model_module_version": "1.2.0",
      "model_name": "LayoutModel",
      "state": {
       "grid_template_areas": "\n                                       \". . . . right \"\n                                        ",
       "grid_template_columns": "20% 20% 20% 20% 20%",
       "width": "100%"
      }
     },
     "5e3a8d35adf34588a80dfd58d42dee7d": {
      "model_module": "@jupyter-widgets/controls",
      "model_module_version": "1.5.0",
      "model_name": "ButtonModel",
      "state": {
       "button_style": "primary",
       "description": "Clear",
       "layout": "IPY_MODEL_01bda3aae76447209fbf2d75cb579cd7",
       "style": "IPY_MODEL_04e4c453642340b0b70e3a0ef63c2f4b"
      }
     },
     "669676d5e49c492ea513205d62091fec": {
      "model_module": "@jupyter-widgets/controls",
      "model_module_version": "1.5.0",
      "model_name": "DescriptionStyleModel",
      "state": {
       "description_width": ""
      }
     },
     "6a8bcd1906d3444d95615571a43c96ed": {
      "model_module": "@jupyter-widgets/base",
      "model_module_version": "1.2.0",
      "model_name": "LayoutModel",
      "state": {
       "width": "145px"
      }
     },
     "75560aff7fe84f7592a84b934dcd9016": {
      "model_module": "@jupyter-widgets/base",
      "model_module_version": "1.2.0",
      "model_name": "LayoutModel",
      "state": {
       "margin": "0px 0px 10px 0px"
      }
     },
     "796dedad97444967a005f99dfa80b676": {
      "model_module": "@jupyter-widgets/base",
      "model_module_version": "1.2.0",
      "model_name": "LayoutModel",
      "state": {
       "width": "95px"
      }
     },
     "7eac65182d2440beb76d2115f81871d2": {
      "model_module": "@jupyter-widgets/base",
      "model_module_version": "1.2.0",
      "model_name": "LayoutModel",
      "state": {
       "width": "190px"
      }
     },
     "9b838b50f89c4658957235c1bdc94986": {
      "model_module": "@jupyter-widgets/controls",
      "model_module_version": "1.5.0",
      "model_name": "HTMLModel",
      "state": {
       "layout": "IPY_MODEL_75560aff7fe84f7592a84b934dcd9016",
       "style": "IPY_MODEL_c42a9ad2910541deaa05b32596d3f2f0",
       "value": "<p style='font-family: IBM Plex Sans, Arial, Helvetica, sans-serif; font-size: 20px; font-weight: medium;'>Circuit Properties</p>"
      }
     },
     "9c85d474a3f34cd7a8c00c5fba37ed23": {
      "model_module": "@jupyter-widgets/base",
      "model_module_version": "1.2.0",
      "model_name": "LayoutModel",
      "state": {
       "margin": "0px 0px 0px 37px",
       "width": "600px"
      }
     },
     "a1409830bb4b494d84bf252f01da1cc6": {
      "model_module": "@jupyter-widgets/controls",
      "model_module_version": "1.5.0",
      "model_name": "HTMLModel",
      "state": {
       "layout": "IPY_MODEL_cf6f37b573c64935a7a03ac102ae7ad9",
       "style": "IPY_MODEL_a3ae7e487dad4055bbe5cc41af75f5d9",
       "value": "<h5>Message</h5>"
      }
     },
     "a16eb41002c643f2bc24b5b651e3fa29": {
      "model_module": "@jupyter-widgets/controls",
      "model_module_version": "1.5.0",
      "model_name": "DescriptionStyleModel",
      "state": {
       "description_width": ""
      }
     },
     "a3ae7e487dad4055bbe5cc41af75f5d9": {
      "model_module": "@jupyter-widgets/controls",
      "model_module_version": "1.5.0",
      "model_name": "DescriptionStyleModel",
      "state": {
       "description_width": ""
      }
     },
     "a86d6a32ddd44e22ac8e5f4a89885f1b": {
      "model_module": "@jupyter-widgets/controls",
      "model_module_version": "1.5.0",
      "model_name": "HTMLModel",
      "state": {
       "layout": "IPY_MODEL_acffde7f080d4c7ea0735f2b4744baab",
       "style": "IPY_MODEL_fda59abc99e64d4e8265d4712df15ada",
       "value": "<h5>Queue</h5>"
      }
     },
     "acffde7f080d4c7ea0735f2b4744baab": {
      "model_module": "@jupyter-widgets/base",
      "model_module_version": "1.2.0",
      "model_name": "LayoutModel",
      "state": {
       "width": "70px"
      }
     },
     "b63add73b1994a299e7d35ccb84a94a1": {
      "model_module": "@jupyter-widgets/controls",
      "model_module_version": "1.5.0",
      "model_name": "HBoxModel",
      "state": {
       "children": [
        "IPY_MODEL_09c7dd2b780a4805bc764111343707ed",
        "IPY_MODEL_fc933c97446243519b3534b4325dfb8e",
        "IPY_MODEL_145d982f51ba4653b31eaefcf2949474",
        "IPY_MODEL_a86d6a32ddd44e22ac8e5f4a89885f1b",
        "IPY_MODEL_a1409830bb4b494d84bf252f01da1cc6"
       ],
       "layout": "IPY_MODEL_9c85d474a3f34cd7a8c00c5fba37ed23"
      }
     },
     "c05de507107e46b6b1f82b157291e18f": {
      "model_module": "@jupyter-widgets/controls",
      "model_module_version": "1.5.0",
      "model_name": "GridBoxModel",
      "state": {
       "children": [
        "IPY_MODEL_5e3a8d35adf34588a80dfd58d42dee7d"
       ],
       "layout": "IPY_MODEL_4b95a5af4c8b42e98c7ee053e6d8d88d"
      }
     },
     "c42a9ad2910541deaa05b32596d3f2f0": {
      "model_module": "@jupyter-widgets/controls",
      "model_module_version": "1.5.0",
      "model_name": "DescriptionStyleModel",
      "state": {
       "description_width": ""
      }
     },
     "cf6f37b573c64935a7a03ac102ae7ad9": {
      "model_module": "@jupyter-widgets/base",
      "model_module_version": "1.2.0",
      "model_name": "LayoutModel",
      "state": {}
     },
     "fc933c97446243519b3534b4325dfb8e": {
      "model_module": "@jupyter-widgets/controls",
      "model_module_version": "1.5.0",
      "model_name": "HTMLModel",
      "state": {
       "layout": "IPY_MODEL_6a8bcd1906d3444d95615571a43c96ed",
       "style": "IPY_MODEL_3b4687e2485e4189a75669e9c41c23e5",
       "value": "<h5>Backend</h5>"
      }
     },
     "fda59abc99e64d4e8265d4712df15ada": {
      "model_module": "@jupyter-widgets/controls",
      "model_module_version": "1.5.0",
      "model_name": "DescriptionStyleModel",
      "state": {
       "description_width": ""
      }
     }
    },
    "version_major": 2,
    "version_minor": 0
   }
  }
 },
 "nbformat": 4,
 "nbformat_minor": 5
}
