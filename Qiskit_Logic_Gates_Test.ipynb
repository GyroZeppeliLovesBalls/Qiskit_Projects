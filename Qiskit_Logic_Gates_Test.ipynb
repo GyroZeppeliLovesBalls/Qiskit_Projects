{
 "cells": [
  {
   "cell_type": "code",
   "execution_count": 1,
   "id": "f6b50180-8ad7-467e-8f14-a6f5128ada31",
   "metadata": {},
   "outputs": [],
   "source": [
    "from ibm_quantum_widgets import CircuitComposer\n",
    "from qiskit import QuantumRegister, ClassicalRegister, QuantumCircuit\n",
    "from numpy import pi\n",
    "# Importing Qiskit and required tools"
   ]
  },
  {
   "cell_type": "code",
   "execution_count": 2,
   "id": "11f0206a-9323-487f-a5a4-651cc2dd1250",
   "metadata": {},
   "outputs": [
    {
     "data": {
      "text/html": [
       "<pre style=\"word-wrap: normal;white-space: pre;background: #fff0;line-height: 1.1;font-family: &quot;Courier New&quot;,Courier,monospace\">     \n",
       "q_0: \n",
       "     \n",
       "q_1: \n",
       "     \n",
       "q_2: \n",
       "     \n",
       "q_3: \n",
       "     \n",
       "q_4: \n",
       "     \n",
       "  c: \n",
       "     </pre>"
      ],
      "text/plain": [
       "     \n",
       "q_0: \n",
       "     \n",
       "q_1: \n",
       "     \n",
       "q_2: \n",
       "     \n",
       "q_3: \n",
       "     \n",
       "q_4: \n",
       "     \n",
       "  c: \n",
       "     "
      ]
     },
     "execution_count": 2,
     "metadata": {},
     "output_type": "execute_result"
    }
   ],
   "source": [
    "qreg_q = QuantumRegister(5, 'q')\n",
    "creg_c = ClassicalRegister(1, 'c')\n",
    "qc = QuantumCircuit(qreg_q, creg_c)\n",
    "qc.draw()\n",
    "# Returns a drawing of the circuit"
   ]
  },
  {
   "cell_type": "code",
   "execution_count": 3,
   "id": "ddfbba15-c392-4623-ae80-7a98e5732b1b",
   "metadata": {},
   "outputs": [],
   "source": [
    "# First; The And Gate\n",
    "# The AND gate is simple and straightforward\n",
    "# The Toffoli Double-Gated X (CCX) can act as an AND gate if applied on an OFF qubit\n",
    "# The OFF qubit can be turned ON if and only if both of the controlling qubits are ON"
   ]
  },
  {
   "cell_type": "code",
   "execution_count": 4,
   "id": "48d95314-5514-4df9-b9fd-c89f15400c1e",
   "metadata": {},
   "outputs": [
    {
     "data": {
      "text/html": [
       "<pre style=\"word-wrap: normal;white-space: pre;background: #fff0;line-height: 1.1;font-family: &quot;Courier New&quot;,Courier,monospace\">             \n",
       "q_0: ──■─────\n",
       "       │     \n",
       "q_1: ──■─────\n",
       "     ┌─┴─┐┌─┐\n",
       "q_2: ┤ X ├┤M├\n",
       "     └───┘└╥┘\n",
       "q_3: ──────╫─\n",
       "           ║ \n",
       "q_4: ──────╫─\n",
       "           ║ \n",
       "  c: ══════╩═\n",
       "             </pre>"
      ],
      "text/plain": [
       "             \n",
       "q_0: ──■─────\n",
       "       │     \n",
       "q_1: ──■─────\n",
       "     ┌─┴─┐┌─┐\n",
       "q_2: ┤ X ├┤M├\n",
       "     └───┘└╥┘\n",
       "q_3: ──────╫─\n",
       "           ║ \n",
       "q_4: ──────╫─\n",
       "           ║ \n",
       "  c: ══════╩═\n",
       "             "
      ]
     },
     "execution_count": 4,
     "metadata": {},
     "output_type": "execute_result"
    }
   ],
   "source": [
    "qc.ccx(qreg_q[0], qreg_q[1], qreg_q[2])\n",
    "qc.measure(qreg_q[2], creg_c[0])\n",
    "qc.draw()"
   ]
  },
  {
   "cell_type": "code",
   "execution_count": 5,
   "id": "3f9521f9-76e3-4607-aac9-b10fff8b2ba8",
   "metadata": {},
   "outputs": [],
   "source": [
    "# Second; The OR Gate\n",
    "# OR gates are also quite easy to build using NAND implementation\n",
    "# Using De Morgan's Law; A+B = ((A+B)')' = (A'*B')'"
   ]
  },
  {
   "cell_type": "code",
   "execution_count": 6,
   "id": "b81fcb47-db07-4617-a56e-6d3d08b0756f",
   "metadata": {},
   "outputs": [
    {
     "data": {
      "text/html": [
       "<pre style=\"word-wrap: normal;white-space: pre;background: #fff0;line-height: 1.1;font-family: &quot;Courier New&quot;,Courier,monospace\">     ┌───┐     ┌───┐   \n",
       "q_0: ┤ X ├──■──┤ X ├───\n",
       "     ├───┤  │  ├───┤   \n",
       "q_1: ┤ X ├──■──┤ X ├───\n",
       "     └───┘┌─┴─┐├───┤┌─┐\n",
       "q_2: ─────┤ X ├┤ X ├┤M├\n",
       "          └───┘└───┘└╥┘\n",
       "q_3: ────────────────╫─\n",
       "                     ║ \n",
       "q_4: ────────────────╫─\n",
       "                     ║ \n",
       "  c: ════════════════╩═\n",
       "                       </pre>"
      ],
      "text/plain": [
       "     ┌───┐     ┌───┐   \n",
       "q_0: ┤ X ├──■──┤ X ├───\n",
       "     ├───┤  │  ├───┤   \n",
       "q_1: ┤ X ├──■──┤ X ├───\n",
       "     └───┘┌─┴─┐├───┤┌─┐\n",
       "q_2: ─────┤ X ├┤ X ├┤M├\n",
       "          └───┘└───┘└╥┘\n",
       "q_3: ────────────────╫─\n",
       "                     ║ \n",
       "q_4: ────────────────╫─\n",
       "                     ║ \n",
       "  c: ════════════════╩═\n",
       "                       "
      ]
     },
     "execution_count": 6,
     "metadata": {},
     "output_type": "execute_result"
    }
   ],
   "source": [
    "qreg_q = QuantumRegister(5, 'q')\n",
    "creg_c = ClassicalRegister(1, 'c')\n",
    "qc = QuantumCircuit(qreg_q, creg_c) # Resetting the Circuit\n",
    "qc.x(qreg_q[0])\n",
    "qc.x(qreg_q[1])\n",
    "qc.ccx(qreg_q[0], qreg_q[1], qreg_q[2])\n",
    "qc.x(qreg_q[0])\n",
    "qc.x(qreg_q[1])\n",
    "qc.x(qreg_q[2])\n",
    "qc.measure(qreg_q[2], creg_c[0])\n",
    "qc.draw()"
   ]
  },
  {
   "cell_type": "code",
   "execution_count": 7,
   "id": "a3a4becc-22c8-4f4c-8ae7-1310432cc039",
   "metadata": {},
   "outputs": [],
   "source": [
    "# An XOR gate can be implemented using a Controlled NOT (CX) Gate\n",
    "# But it can be implemented with NAND gates as follows"
   ]
  },
  {
   "cell_type": "code",
   "execution_count": 8,
   "id": "22cc6759-76a9-4629-938c-bab9684e19e2",
   "metadata": {},
   "outputs": [
    {
     "data": {
      "text/html": [
       "<pre style=\"word-wrap: normal;white-space: pre;background: #fff0;line-height: 1.1;font-family: &quot;Courier New&quot;,Courier,monospace\">     ┌───┐     ┌───┐                       \n",
       "q_0: ┤ X ├──■──┤ X ├──■────────────────────\n",
       "     └───┘  │  ├───┤  │  ┌───┐             \n",
       "q_1: ───────■──┤ X ├──■──┤ X ├─────────────\n",
       "          ┌─┴─┐├───┤  │  └───┘             \n",
       "q_2: ─|0>─┤ X ├┤ X ├──┼─────────■──────────\n",
       "          └───┘└───┘┌─┴─┐┌───┐  │          \n",
       "q_3: ─|0>───────────┤ X ├┤ X ├──■──────────\n",
       "                    └───┘└───┘┌─┴─┐┌───┐┌─┐\n",
       "q_4: ─|0>─────────────────────┤ X ├┤ X ├┤M├\n",
       "                              └───┘└───┘└╥┘\n",
       "  c: ════════════════════════════════════╩═\n",
       "                                           </pre>"
      ],
      "text/plain": [
       "     ┌───┐     ┌───┐                       \n",
       "q_0: ┤ X ├──■──┤ X ├──■────────────────────\n",
       "     └───┘  │  ├───┤  │  ┌───┐             \n",
       "q_1: ───────■──┤ X ├──■──┤ X ├─────────────\n",
       "          ┌─┴─┐├───┤  │  └───┘             \n",
       "q_2: ─|0>─┤ X ├┤ X ├──┼─────────■──────────\n",
       "          └───┘└───┘┌─┴─┐┌───┐  │          \n",
       "q_3: ─|0>───────────┤ X ├┤ X ├──■──────────\n",
       "                    └───┘└───┘┌─┴─┐┌───┐┌─┐\n",
       "q_4: ─|0>─────────────────────┤ X ├┤ X ├┤M├\n",
       "                              └───┘└───┘└╥┘\n",
       "  c: ════════════════════════════════════╩═\n",
       "                                           "
      ]
     },
     "execution_count": 8,
     "metadata": {},
     "output_type": "execute_result"
    }
   ],
   "source": [
    "qreg_q = QuantumRegister(5, 'q')\n",
    "creg_c = ClassicalRegister(1, 'c')\n",
    "qc = QuantumCircuit(qreg_q, creg_c) # Resetting the Circuit\n",
    "qc.reset(qreg_q[2])\n",
    "qc.reset(qreg_q[3])\n",
    "qc.reset(qreg_q[4])\n",
    "qc.x(qreg_q[0])\n",
    "qc.ccx(qreg_q[0], qreg_q[1], qreg_q[2])\n",
    "qc.x(qreg_q[0])\n",
    "qc.x(qreg_q[1])\n",
    "qc.ccx(qreg_q[0], qreg_q[1], qreg_q[3])\n",
    "qc.x(qreg_q[1])\n",
    "qc.x(qreg_q[2])\n",
    "qc.x(qreg_q[3])\n",
    "qc.ccx(qreg_q[2], qreg_q[3], qreg_q[4])\n",
    "qc.x(qreg_q[4])\n",
    "qc.measure(qreg_q[4], creg_c[0])\n",
    "qc.draw()"
   ]
  },
  {
   "cell_type": "code",
   "execution_count": 9,
   "id": "a375c4f8-9a86-42c8-9359-97b47a9f0221",
   "metadata": {},
   "outputs": [],
   "source": [
    "# Yet, Using just a CX Gates, The Circuit will look like this"
   ]
  },
  {
   "cell_type": "code",
   "execution_count": 10,
   "id": "1235a665",
   "metadata": {},
   "outputs": [
    {
     "data": {
      "text/html": [
       "<pre style=\"word-wrap: normal;white-space: pre;background: #fff0;line-height: 1.1;font-family: &quot;Courier New&quot;,Courier,monospace\">                  \n",
       "q_0: ──■──────────\n",
       "       │          \n",
       "q_1: ──┼────■─────\n",
       "     ┌─┴─┐┌─┴─┐┌─┐\n",
       "q_2: ┤ X ├┤ X ├┤M├\n",
       "     └───┘└───┘└╥┘\n",
       "q_3: ───────────╫─\n",
       "                ║ \n",
       "q_4: ───────────╫─\n",
       "                ║ \n",
       "  c: ═══════════╩═\n",
       "                  </pre>"
      ],
      "text/plain": [
       "                  \n",
       "q_0: ──■──────────\n",
       "       │          \n",
       "q_1: ──┼────■─────\n",
       "     ┌─┴─┐┌─┴─┐┌─┐\n",
       "q_2: ┤ X ├┤ X ├┤M├\n",
       "     └───┘└───┘└╥┘\n",
       "q_3: ───────────╫─\n",
       "                ║ \n",
       "q_4: ───────────╫─\n",
       "                ║ \n",
       "  c: ═══════════╩═\n",
       "                  "
      ]
     },
     "execution_count": 10,
     "metadata": {},
     "output_type": "execute_result"
    }
   ],
   "source": [
    "qreg_q = QuantumRegister(5, 'q')\n",
    "creg_c = ClassicalRegister(1, 'c')\n",
    "qc = QuantumCircuit(qreg_q, creg_c) # Resetting the Circuit\n",
    "qc.cx(0,2)\n",
    "qc.cx(1,2)\n",
    "qc.measure(qreg_q[2], creg_c[0])\n",
    "qc.draw()"
   ]
  },
  {
   "cell_type": "code",
   "execution_count": null,
   "id": "6884cdad",
   "metadata": {},
   "outputs": [],
   "source": [
    "# Designing a Half Adder"
   ]
  },
  {
   "cell_type": "code",
   "execution_count": 11,
   "id": "ce01860e",
   "metadata": {},
   "outputs": [
    {
     "data": {
      "text/html": [
       "<pre style=\"word-wrap: normal;white-space: pre;background: #fff0;line-height: 1.1;font-family: &quot;Courier New&quot;,Courier,monospace\">                          \n",
       "q_0: ──■─────────■────────\n",
       "       │         │        \n",
       "q_1: ──┼────■────■────────\n",
       "     ┌─┴─┐┌─┴─┐  │  ┌─┐   \n",
       "q_2: ┤ X ├┤ X ├──┼──┤M├───\n",
       "     └───┘└───┘┌─┴─┐└╥┘┌─┐\n",
       "q_3: ──────────┤ X ├─╫─┤M├\n",
       "               └───┘ ║ └╥┘\n",
       "q_4: ────────────────╫──╫─\n",
       "                     ║  ║ \n",
       "c_0: ════════════════╩══╬═\n",
       "                        ║ \n",
       "c_1: ═══════════════════╩═\n",
       "                          </pre>"
      ],
      "text/plain": [
       "                          \n",
       "q_0: ──■─────────■────────\n",
       "       │         │        \n",
       "q_1: ──┼────■────■────────\n",
       "     ┌─┴─┐┌─┴─┐  │  ┌─┐   \n",
       "q_2: ┤ X ├┤ X ├──┼──┤M├───\n",
       "     └───┘└───┘┌─┴─┐└╥┘┌─┐\n",
       "q_3: ──────────┤ X ├─╫─┤M├\n",
       "               └───┘ ║ └╥┘\n",
       "q_4: ────────────────╫──╫─\n",
       "                     ║  ║ \n",
       "c_0: ════════════════╩══╬═\n",
       "                        ║ \n",
       "c_1: ═══════════════════╩═\n",
       "                          "
      ]
     },
     "execution_count": 11,
     "metadata": {},
     "output_type": "execute_result"
    }
   ],
   "source": [
    "qreg_q = QuantumRegister(5, 'q')\n",
    "creg_c = ClassicalRegister(2, 'c')\n",
    "qc = QuantumCircuit(qreg_q, creg_c) # Resetting the Circuit\n",
    "qc.cx(0,2)\n",
    "qc.cx(1,2)\n",
    "qc.ccx(qreg_q[0], qreg_q[1], qreg_q[3])\n",
    "qc.measure(qreg_q[3], creg_c[1])\n",
    "qc.measure(qreg_q[2], creg_c[0])\n",
    "qc.draw()"
   ]
  },
  {
   "cell_type": "code",
   "execution_count": null,
   "id": "e5324999",
   "metadata": {},
   "outputs": [],
   "source": []
  }
 ],
 "metadata": {
  "kernelspec": {
   "display_name": "Python 3 (ipykernel)",
   "language": "python",
   "name": "python3"
  },
  "language_info": {
   "codemirror_mode": {
    "name": "ipython",
    "version": 3
   },
   "file_extension": ".py",
   "mimetype": "text/x-python",
   "name": "python",
   "nbconvert_exporter": "python",
   "pygments_lexer": "ipython3",
   "version": "3.9.13"
  },
  "widgets": {
   "application/vnd.jupyter.widget-state+json": {
    "state": {},
    "version_major": 2,
    "version_minor": 0
   }
  }
 },
 "nbformat": 4,
 "nbformat_minor": 5
}
